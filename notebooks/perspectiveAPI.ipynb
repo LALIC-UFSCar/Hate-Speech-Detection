{
  "cells": [
    {
      "cell_type": "code",
      "execution_count": null,
      "id": "dd1780f2",
      "metadata": {
        "id": "dd1780f2"
      },
      "outputs": [],
      "source": [
        "import threading\n",
        "import time\n",
        "from concurrent.futures import ThreadPoolExecutor\n",
        "import pandas as pd\n",
        "import requests\n",
        "from requests.adapters import HTTPAdapter\n",
        "from urllib3.util.retry import Retry\n",
        "from tqdm import tqdm"
      ]
    },
    {
      "cell_type": "code",
      "execution_count": null,
      "id": "FK3VYH6cgFez",
      "metadata": {
        "colab": {
          "base_uri": "https://localhost:8080/"
        },
        "id": "FK3VYH6cgFez",
        "outputId": "18da92dc-9520-464f-aeeb-77a083fc5d43"
      },
      "outputs": [
        {
          "name": "stdout",
          "output_type": "stream",
          "text": [
            "Mounted at /content/drive\n"
          ]
        }
      ],
      "source": [
        "from google.colab import drive\n",
        "drive.mount('/content/drive')"
      ]
    },
    {
      "cell_type": "code",
      "execution_count": null,
      "id": "Qn-95QlUgImp",
      "metadata": {
        "id": "Qn-95QlUgImp"
      },
      "outputs": [],
      "source": [
        "input_file = \"/content/drive/MyDrive/toxic/bolsonaro_filtered.xlsx\"\n",
        "output_file = \"/content/drive/MyDrive/toxic/bolsonaro_perspective.xlsx\""
      ]
    },
    {
      "cell_type": "code",
      "execution_count": null,
      "id": "19d8a038",
      "metadata": {
        "id": "19d8a038"
      },
      "outputs": [],
      "source": [
        "API_KEY = \"\"\n",
        "URL = f\"https://commentanalyzer.googleapis.com/v1alpha1/comments:analyze?key={API_KEY}\""
      ]
    },
    {
      "cell_type": "code",
      "execution_count": null,
      "id": "f72239b5",
      "metadata": {
        "id": "f72239b5"
      },
      "outputs": [],
      "source": [
        "session = requests.Session()\n",
        "retry_strategy = Retry(\n",
        "    total=5,\n",
        "    backoff_factor=1,\n",
        "    status_forcelist=[429, 500, 502, 503, 504],\n",
        ")\n",
        "adapter = HTTPAdapter(max_retries=retry_strategy)\n",
        "session.mount(\"https://\", adapter)\n",
        "session.mount(\"http://\", adapter)"
      ]
    },
    {
      "cell_type": "code",
      "execution_count": null,
      "id": "1755cca4",
      "metadata": {
        "id": "1755cca4"
      },
      "outputs": [],
      "source": [
        "RATE_LIMIT = 600\n",
        "PERIOD = 60\n",
        "lock = threading.Lock()\n",
        "calls = 0\n",
        "last_reset = time.time()"
      ]
    },
    {
      "cell_type": "code",
      "execution_count": null,
      "id": "4d97577b",
      "metadata": {
        "id": "4d97577b"
      },
      "outputs": [],
      "source": [
        "def rate_limit():\n",
        "    global calls, last_reset\n",
        "    with lock:\n",
        "        now = time.time()\n",
        "        if now - last_reset > PERIOD:\n",
        "            last_reset = now\n",
        "            calls = 0\n",
        "        if calls >= RATE_LIMIT:\n",
        "            sleep_for = PERIOD - (now - last_reset)\n",
        "            if sleep_for > 0:\n",
        "                time.sleep(sleep_for)\n",
        "            last_reset = time.time()\n",
        "            calls = 0\n",
        "        calls += 1"
      ]
    },
    {
      "cell_type": "code",
      "execution_count": null,
      "id": "c7b811af",
      "metadata": {
        "id": "c7b811af"
      },
      "outputs": [],
      "source": [
        "def analyze_tweet_limited(tweet: str) -> dict:\n",
        "    rate_limit()\n",
        "    payload = {\n",
        "        \"comment\": {\"text\": tweet},\n",
        "        \"languages\": [\"pt\"],\n",
        "        \"requestedAttributes\": {\n",
        "            \"TOXICITY\": {},\n",
        "            \"SEVERE_TOXICITY\": {},\n",
        "            \"IDENTITY_ATTACK\": {},\n",
        "            \"INSULT\": {},\n",
        "            \"PROFANITY\": {},\n",
        "            \"THREAT\": {},\n",
        "        },\n",
        "    }\n",
        "    try:\n",
        "        resp = session.post(URL, json=payload, timeout=10)\n",
        "        resp.raise_for_status()\n",
        "        scores = resp.json()[\"attributeScores\"]\n",
        "        return {k: v[\"summaryScore\"][\"value\"] for k, v in scores.items()}\n",
        "    except Exception as e:\n",
        "        return {\"error\": str(e)}"
      ]
    },
    {
      "cell_type": "code",
      "execution_count": null,
      "id": "e2b802fd",
      "metadata": {
        "id": "e2b802fd"
      },
      "outputs": [],
      "source": [
        "def process_tweets(tweets, max_workers=10):\n",
        "    with ThreadPoolExecutor(max_workers=max_workers) as pool:\n",
        "        return list(\n",
        "            tqdm(\n",
        "                pool.map(analyze_tweet_limited, tweets),\n",
        "                total=len(tweets),\n",
        "                desc=\"Analyzing tweets\",\n",
        "            )\n",
        "        )"
      ]
    },
    {
      "cell_type": "code",
      "execution_count": null,
      "id": "a5f1f024",
      "metadata": {
        "id": "a5f1f024"
      },
      "outputs": [],
      "source": [
        "df = pd.read_excel(input_file)"
      ]
    },
    {
      "cell_type": "code",
      "execution_count": null,
      "id": "604211bc",
      "metadata": {
        "colab": {
          "base_uri": "https://localhost:8080/"
        },
        "id": "604211bc",
        "outputId": "e42a458b-94b2-48fe-8aa3-34bc13ba3435"
      },
      "outputs": [],
      "source": [
        "tweets = df[\"text_processed\"].tolist()\n",
        "scores_list = process_tweets(tweets, max_workers=10)"
      ]
    },
    {
      "cell_type": "code",
      "execution_count": null,
      "id": "99dcb474",
      "metadata": {
        "id": "99dcb474"
      },
      "outputs": [],
      "source": [
        "scores_df = pd.json_normalize(scores_list)"
      ]
    },
    {
      "cell_type": "code",
      "execution_count": null,
      "id": "61883c0b",
      "metadata": {
        "id": "61883c0b"
      },
      "outputs": [],
      "source": [
        "df_all_attr = pd.concat(\n",
        "        [df.reset_index(drop=True)[[\"id\", \"text\", \"text_processed\"]], scores_df],\n",
        "        axis=1,\n",
        "    )"
      ]
    },
    {
      "cell_type": "code",
      "execution_count": null,
      "id": "911ba1d0",
      "metadata": {
        "id": "911ba1d0"
      },
      "outputs": [],
      "source": [
        "df_all_attr[\"is_toxic\"] = df_all_attr[\"TOXICITY\"] >= 0.7"
      ]
    },
    {
      "cell_type": "code",
      "execution_count": null,
      "id": "4f40635c",
      "metadata": {
        "id": "4f40635c"
      },
      "outputs": [],
      "source": [
        "df_all_attr['id'] = df_all_attr['id'].astype(str)\n",
        "df_all_attr[[\"id\", \"text\", \"is_toxic\"]].to_excel(output_file, index=False)\n",
        "df_all_attr.to_excel(\"/content/drive/MyDrive/toxic/bolsonaro_attributes.xlsx\", index=False)"
      ]
    }
  ],
  "metadata": {
    "colab": {
      "provenance": []
    },
    "kernelspec": {
      "display_name": "venv",
      "language": "python",
      "name": "python3"
    },
    "language_info": {
      "codemirror_mode": {
        "name": "ipython",
        "version": 3
      },
      "file_extension": ".py",
      "mimetype": "text/x-python",
      "name": "python",
      "nbconvert_exporter": "python",
      "pygments_lexer": "ipython3",
      "version": "3.10.0"
    }
  },
  "nbformat": 4,
  "nbformat_minor": 5
}
