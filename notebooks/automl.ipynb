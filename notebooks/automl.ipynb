{
 "cells": [
  {
   "cell_type": "code",
   "execution_count": null,
   "metadata": {
    "collapsed": true,
    "execution": {
     "iopub.execute_input": "2025-06-25T16:47:50.374577Z",
     "iopub.status.busy": "2025-06-25T16:47:50.374284Z",
     "iopub.status.idle": "2025-06-25T16:47:57.153419Z",
     "shell.execute_reply": "2025-06-25T16:47:57.151212Z",
     "shell.execute_reply.started": "2025-06-25T16:47:50.374553Z"
    },
    "jupyter": {
     "outputs_hidden": true
    },
    "trusted": true
   },
   "outputs": [],
   "source": [
    "!pip install tpot"
   ]
  },
  {
   "cell_type": "code",
   "execution_count": null,
   "metadata": {
    "execution": {
     "iopub.execute_input": "2025-06-25T16:47:57.155836Z",
     "iopub.status.busy": "2025-06-25T16:47:57.155341Z",
     "iopub.status.idle": "2025-06-25T16:47:57.163791Z",
     "shell.execute_reply": "2025-06-25T16:47:57.162496Z",
     "shell.execute_reply.started": "2025-06-25T16:47:57.155785Z"
    },
    "trusted": true
   },
   "outputs": [],
   "source": [
    "import joblib\n",
    "import pandas as pd\n",
    "from sklearn.metrics import accuracy_score, classification_report\n",
    "from sklearn.feature_extraction.text import TfidfVectorizer\n",
    "from sklearn.model_selection import train_test_split\n",
    "import numpy as np\n",
    "from sklearn.multioutput import MultiOutputClassifier\n",
    "import warnings\n",
    "# warnings.filterwarnings('ignore')\n",
    "from tpot import TPOTClassifier"
   ]
  },
  {
   "cell_type": "markdown",
   "metadata": {},
   "source": [
    "# Train for binary classification"
   ]
  },
  {
   "cell_type": "code",
   "execution_count": null,
   "metadata": {
    "collapsed": true,
    "execution": {
     "iopub.execute_input": "2025-06-23T18:59:03.801478Z",
     "iopub.status.busy": "2025-06-23T18:59:03.801113Z",
     "iopub.status.idle": "2025-06-23T19:48:50.930397Z",
     "shell.execute_reply": "2025-06-23T19:48:50.929679Z",
     "shell.execute_reply.started": "2025-06-23T18:59:03.801452Z"
    },
    "jupyter": {
     "outputs_hidden": true
    },
    "trusted": true
   },
   "outputs": [],
   "source": [
    "df = pd.read_csv('/kaggle/input/hatebr/hate-br.csv')\n",
    "\n",
    "df['offensive_language'] = df['offensive_language'].astype(str).str.upper().map({'TRUE': 1, 'FALSE': 0})\n",
    "\n",
    "X_text = df['instagram_comments']\n",
    "y = df['offensive_language']\n",
    "\n",
    "vectorizer = TfidfVectorizer(max_features=5000)\n",
    "X = vectorizer.fit_transform(X_text)\n",
    "\n",
    "X_train, X_test, y_train, y_test = train_test_split(\n",
    "    X, y, test_size=0.2, random_state=42\n",
    ")\n",
    "\n",
    "tpot = TPOTClassifier(\n",
    "    generations=5,\n",
    "    population_size=20,\n",
    "    verbosity=2,\n",
    "    random_state=42,\n",
    "    n_jobs=-1,\n",
    "    config_dict='TPOT sparse'\n",
    ")\n",
    "\n",
    "tpot.fit(X_train, y_train)\n",
    "\n",
    "y_pred = tpot.predict(X_test)\n",
    "print(\"Acurácia:\", accuracy_score(y_test, y_pred))\n",
    "\n",
    "tpot.export('melhor_pipeline.py')\n",
    "\n",
    "joblib.dump(tpot.fitted_pipeline_, 'modelo_ofensivo.pkl')\n",
    "joblib.dump(vectorizer, 'vetorizador.pkl')"
   ]
  },
  {
   "cell_type": "code",
   "execution_count": null,
   "metadata": {
    "execution": {
     "iopub.execute_input": "2025-06-24T17:05:15.660429Z",
     "iopub.status.busy": "2025-06-24T17:05:15.660138Z",
     "iopub.status.idle": "2025-06-24T17:05:17.671492Z",
     "shell.execute_reply": "2025-06-24T17:05:17.669966Z",
     "shell.execute_reply.started": "2025-06-24T17:05:15.660404Z"
    },
    "trusted": true
   },
   "outputs": [
    {
     "name": "stdout",
     "output_type": "stream",
     "text": [
      "É ofensivo? True\n"
     ]
    }
   ],
   "source": [
    "modelo = joblib.load('/kaggle/input/automl-binary/modelo_ofensivo.pkl')\n",
    "vectorizer = joblib.load('/kaggle/input/automl-binary/vetorizador.pkl')\n",
    "\n",
    "novo_comentario = [\"Essa pessoa é nojenta!\"]\n",
    "X_novo = vectorizer.transform(novo_comentario)\n",
    "\n",
    "pred = modelo.predict(X_novo)\n",
    "print(\"É ofensivo?\" , bool(pred[0])) "
   ]
  },
  {
   "cell_type": "code",
   "execution_count": null,
   "metadata": {
    "execution": {
     "iopub.execute_input": "2025-06-23T19:50:39.961321Z",
     "iopub.status.busy": "2025-06-23T19:50:39.960961Z",
     "iopub.status.idle": "2025-06-23T19:50:39.977075Z",
     "shell.execute_reply": "2025-06-23T19:50:39.976198Z",
     "shell.execute_reply.started": "2025-06-23T19:50:39.961295Z"
    },
    "trusted": true
   },
   "outputs": [],
   "source": [
    "y_pred = modelo.predict(X_test)\n",
    "print(classification_report(y_test, y_pred, target_names=['Não ofensivo', 'Ofensivo']))"
   ]
  },
  {
   "cell_type": "markdown",
   "metadata": {},
   "source": [
    "# Train for multilabel classification"
   ]
  },
  {
   "cell_type": "code",
   "execution_count": null,
   "metadata": {
    "execution": {
     "iopub.execute_input": "2025-06-25T16:50:03.640706Z",
     "iopub.status.busy": "2025-06-25T16:50:03.639990Z",
     "iopub.status.idle": "2025-06-25T16:50:12.333801Z",
     "shell.execute_reply": "2025-06-25T16:50:12.332469Z",
     "shell.execute_reply.started": "2025-06-25T16:50:03.640663Z"
    },
    "trusted": true
   },
   "outputs": [],
   "source": [
    "df = pd.read_csv('/kaggle/input/unified-hate/unified-hate.csv')\n",
    "\n",
    "\n",
    "label_cols = [\"insult\", \"obscene\", \"ideology\", \"lgbtqphobia\", \"racism\", \"sexism\", \"xenophobia\"]\n",
    "\n",
    "# df[label_cols] = df[label_cols].astype(str).apply(lambda x: x.str.upper().map({'TRUE': 1, 'FALSE': 0}))\n",
    "\n",
    "X_text = df['text']\n",
    "y = df[label_cols]\n",
    "\n",
    "vectorizer = TfidfVectorizer()\n",
    "X = vectorizer.fit_transform(X_text)\n",
    "\n",
    "X_train, X_test, y_train, y_test = train_test_split(\n",
    "    X, y, test_size=0.2, random_state=42\n",
    ")"
   ]
  },
  {
   "cell_type": "code",
   "execution_count": null,
   "metadata": {
    "execution": {
     "iopub.execute_input": "2025-06-24T18:29:33.079443Z",
     "iopub.status.busy": "2025-06-24T18:29:33.079087Z",
     "iopub.status.idle": "2025-06-25T01:33:03.718496Z",
     "shell.execute_reply": "2025-06-25T01:33:03.716057Z",
     "shell.execute_reply.started": "2025-06-24T18:29:33.079418Z"
    },
    "trusted": true
   },
   "outputs": [],
   "source": [
    "tpot = TPOTClassifier(\n",
    "    generations=5,\n",
    "    population_size=20,\n",
    "    verbosity=2,\n",
    "    random_state=42,\n",
    "    n_jobs=-1,\n",
    "    config_dict='TPOT sparse'\n",
    ")\n",
    "\n",
    "modelo = MultiOutputClassifier(tpot)\n",
    "\n",
    "modelo.fit(X_train, y_train)\n",
    "\n",
    "y_pred = modelo.predict(X_test)\n",
    "\n",
    "for i, label in enumerate(label_cols):\n",
    "    print(f\"\\nMétricas para: {label}\")\n",
    "    print(classification_report(y_test[label], y_pred[:, i]))"
   ]
  },
  {
   "cell_type": "code",
   "execution_count": null,
   "metadata": {
    "execution": {
     "iopub.execute_input": "2025-06-25T01:33:14.823095Z",
     "iopub.status.busy": "2025-06-25T01:33:14.821832Z",
     "iopub.status.idle": "2025-06-25T01:33:14.994170Z",
     "shell.execute_reply": "2025-06-25T01:33:14.992878Z",
     "shell.execute_reply.started": "2025-06-25T01:33:14.823058Z"
    },
    "trusted": true
   },
   "outputs": [],
   "source": [
    "for i, label in enumerate(label_cols):\n",
    "    tpot_pipeline = modelo.estimators_[i].fitted_pipeline_\n",
    "    joblib.dump(tpot_pipeline, f'modelo_{label}.pkl')"
   ]
  },
  {
   "cell_type": "code",
   "execution_count": 22,
   "metadata": {
    "execution": {
     "iopub.execute_input": "2025-06-25T01:34:10.457245Z",
     "iopub.status.busy": "2025-06-25T01:34:10.456138Z",
     "iopub.status.idle": "2025-06-25T01:34:10.552132Z",
     "shell.execute_reply": "2025-06-25T01:34:10.551202Z",
     "shell.execute_reply.started": "2025-06-25T01:34:10.457212Z"
    },
    "trusted": true
   },
   "outputs": [
    {
     "data": {
      "text/plain": [
       "['vetorizador_multilabel.pkl']"
      ]
     },
     "execution_count": 22,
     "metadata": {},
     "output_type": "execute_result"
    }
   ],
   "source": [
    "joblib.dump(vectorizer, 'vetorizador_multilabel.pkl')"
   ]
  },
  {
   "cell_type": "code",
   "execution_count": null,
   "metadata": {
    "execution": {
     "iopub.execute_input": "2025-06-25T16:57:06.803893Z",
     "iopub.status.busy": "2025-06-25T16:57:06.802976Z",
     "iopub.status.idle": "2025-06-25T16:57:07.046331Z",
     "shell.execute_reply": "2025-06-25T16:57:07.045143Z",
     "shell.execute_reply.started": "2025-06-25T16:57:06.803856Z"
    },
    "trusted": true
   },
   "outputs": [],
   "source": [
    "\n",
    "label_cols = [\"insult\", \"obscene\", \"ideology\", \"lgbtqphobia\", \"racism\", \"sexism\", \"xenophobia\"]\n",
    "vectorizer = joblib.load('/kaggle/input/automl-multilabel/vetorizador_multilabel.pkl')\n",
    "\n",
    "pipelines = [joblib.load(f'/kaggle/input/automl-multilabel/modelo_{label}.pkl') for label in label_cols]\n",
    "\n",
    "modelo = MultiOutputClassifier(estimator=None)\n",
    "modelo.estimators_ = pipelines\n"
   ]
  },
  {
   "cell_type": "code",
   "execution_count": null,
   "metadata": {
    "execution": {
     "iopub.execute_input": "2025-06-25T17:08:20.553255Z",
     "iopub.status.busy": "2025-06-25T17:08:20.552835Z",
     "iopub.status.idle": "2025-06-25T17:08:22.773528Z",
     "shell.execute_reply": "2025-06-25T17:08:22.772348Z",
     "shell.execute_reply.started": "2025-06-25T17:08:20.553230Z"
    },
    "trusted": true
   },
   "outputs": [],
   "source": [
    "base = \"lula\"\n",
    "path = \"/kaggle/input/2500-samples/lula_2500k.xlsx\"\n",
    "save_path = \"\"\n",
    "df = pd.read_excel(path, dtype={'id': str})\n",
    "df = df.dropna(subset=['tweet'])\n",
    "# df['id'] = df['id'].astype(str)\n",
    "\n",
    "X = vectorizer.transform(df['tweet'].astype(str))\n",
    "\n",
    "y_pred = [modelo.predict(X) for modelo in pipelines] \n",
    "\n",
    "y_pred_array = np.array(y_pred).T \n",
    "\n",
    "df_predicoes = pd.DataFrame(y_pred_array, columns=label_cols)\n",
    "\n",
    "df_resultado = pd.concat([df[['id', 'tweet']], df_predicoes], axis=1)\n",
    "df_resultado[\"id\"] = df_resultado[\"id\"].astype(str)\n",
    "# print(df_resultado.head())\n",
    "\n",
    "df_resultado.to_excel(save_path, index=False)\n",
    "df_resultado.to_csv(save_path, index=False)"
   ]
  }
 ],
 "metadata": {
  "kaggle": {
   "accelerator": "none",
   "dataSources": [
    {
     "datasetId": 6482310,
     "sourceId": 10469373,
     "sourceType": "datasetVersion"
    },
    {
     "datasetId": 6603644,
     "sourceId": 10662976,
     "sourceType": "datasetVersion"
    },
    {
     "datasetId": 6756326,
     "sourceId": 10874072,
     "sourceType": "datasetVersion"
    },
    {
     "datasetId": 7733417,
     "sourceId": 12271870,
     "sourceType": "datasetVersion"
    },
    {
     "datasetId": 7733422,
     "sourceId": 12271877,
     "sourceType": "datasetVersion"
    },
    {
     "datasetId": 7741317,
     "sourceId": 12283595,
     "sourceType": "datasetVersion"
    }
   ],
   "dockerImageVersionId": 31040,
   "isGpuEnabled": false,
   "isInternetEnabled": true,
   "language": "python",
   "sourceType": "notebook"
  },
  "kernelspec": {
   "display_name": "Python 3",
   "language": "python",
   "name": "python3"
  },
  "language_info": {
   "codemirror_mode": {
    "name": "ipython",
    "version": 3
   },
   "file_extension": ".py",
   "mimetype": "text/x-python",
   "name": "python",
   "nbconvert_exporter": "python",
   "pygments_lexer": "ipython3",
   "version": "3.11.11"
  }
 },
 "nbformat": 4,
 "nbformat_minor": 4
}
